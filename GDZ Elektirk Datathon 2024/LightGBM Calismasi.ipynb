{
 "cells": [
  {
   "cell_type": "code",
   "execution_count": 10,
   "id": "cc46f322-039f-4a0f-84c4-965876cdaa04",
   "metadata": {
    "executionInfo": {
     "elapsed": 3116,
     "status": "ok",
     "timestamp": 1714760331682,
     "user": {
      "displayName": "Sezgin Katirci",
      "userId": "08444718595636690061"
     },
     "user_tz": -180
    },
    "id": "cc46f322-039f-4a0f-84c4-965876cdaa04"
   },
   "outputs": [],
   "source": [
    "import numpy as np\n",
    "import pandas as pd\n",
    "import matplotlib.pyplot as plt\n",
    "from sklearn.model_selection import cross_val_score\n",
    "import lightgbm as lgb\n",
    "from sklearn.metrics import mean_absolute_error\n",
    "import re"
   ]
  },
  {
   "cell_type": "code",
   "execution_count": 11,
   "id": "c4ff0dd1-7243-4dd8-98b3-1b03d97aeba4",
   "metadata": {
    "executionInfo": {
     "elapsed": 1457,
     "status": "ok",
     "timestamp": 1714760333130,
     "user": {
      "displayName": "Sezgin Katirci",
      "userId": "08444718595636690061"
     },
     "user_tz": -180
    },
    "id": "c4ff0dd1-7243-4dd8-98b3-1b03d97aeba4"
   },
   "outputs": [],
   "source": [
    "train=pd.read_csv(\"C:\\\\Users\\\\Dell\\\\Desktop\\\\GDZ Elektrik Datathon\\\\new_train2.csv\")\n",
    "test=pd.read_csv(\"C:\\\\Users\\\\Dell\\\\Desktop\\\\GDZ Elektrik Datathon\\\\new_test2.csv\")\n",
    "submission=pd.read_csv(\"C:\\\\Users\\\\Dell\\\\Desktop\\\\GDZ Elektrik Datathon\\\\sample_submission.csv\")"
   ]
  },
  {
   "cell_type": "code",
   "execution_count": 12,
   "id": "13V62RJRYlj-",
   "metadata": {
    "executionInfo": {
     "elapsed": 16,
     "status": "ok",
     "timestamp": 1714760333131,
     "user": {
      "displayName": "Sezgin Katirci",
      "userId": "08444718595636690061"
     },
     "user_tz": -180
    },
    "id": "13V62RJRYlj-"
   },
   "outputs": [],
   "source": [
    "def encode(data, col, max_val):\n",
    "    data[col + '_sin'] = np.sin(2 * np.pi * data[col]/max_val)\n",
    "    data[col + '_cos'] = np.cos(2 * np.pi * data[col]/max_val)\n",
    "    return data\n",
    "\n",
    "train = encode(train, 'yil', 365)\n",
    "train = encode(train, 'ay', 12)\n",
    "train = encode(train, 'haftanin_gunu', 7)\n",
    "\n",
    "test = encode(test, 'yil', 365)\n",
    "test = encode(test, 'ay', 12)\n",
    "test = encode(test, 'haftanin_gunu', 7)"
   ]
  },
  {
   "cell_type": "code",
   "execution_count": 13,
   "id": "ddee13af-0d7f-42d2-8f0a-2ebc48b9bdd7",
   "metadata": {
    "executionInfo": {
     "elapsed": 14,
     "status": "ok",
     "timestamp": 1714760333131,
     "user": {
      "displayName": "Sezgin Katirci",
      "userId": "08444718595636690061"
     },
     "user_tz": -180
    },
    "id": "ddee13af-0d7f-42d2-8f0a-2ebc48b9bdd7"
   },
   "outputs": [],
   "source": [
    "silinecek_sutunlar=[\"yil\",\"ay\",\"haftanin_gunu\",\"bildirimli_sum\",\"tarih\",\"mevsim\",\"min_t_2m:C\",\"max_t_2m:C\",'mean_t_2m:C',\n",
    "                    't_difference_2m:C','min_t_apparent:C','max_relative_humidity_2m:p','t_apparent_difference:C','max_global_rad:W',\n",
    "                    'max_t_apparent:C','mean_t_apparent:C','tatil_mi']\n",
    "train_df=train.drop(silinecek_sutunlar,axis=1)\n",
    "test_df=test.drop(silinecek_sutunlar,axis=1)"
   ]
  },
  {
   "cell_type": "code",
   "execution_count": 14,
   "id": "7708b858-b71f-4096-950a-70147fb9154b",
   "metadata": {
    "colab": {
     "base_uri": "https://localhost:8080/",
     "height": 273
    },
    "executionInfo": {
     "elapsed": 13,
     "status": "ok",
     "timestamp": 1714760333131,
     "user": {
      "displayName": "Sezgin Katirci",
      "userId": "08444718595636690061"
     },
     "user_tz": -180
    },
    "id": "7708b858-b71f-4096-950a-70147fb9154b",
    "outputId": "31ddf457-fbad-4b87-88fe-b7b054583d27"
   },
   "outputs": [
    {
     "data": {
      "text/html": [
       "<div>\n",
       "<style scoped>\n",
       "    .dataframe tbody tr th:only-of-type {\n",
       "        vertical-align: middle;\n",
       "    }\n",
       "\n",
       "    .dataframe tbody tr th {\n",
       "        vertical-align: top;\n",
       "    }\n",
       "\n",
       "    .dataframe thead th {\n",
       "        text-align: right;\n",
       "    }\n",
       "</style>\n",
       "<table border=\"1\" class=\"dataframe\">\n",
       "  <thead>\n",
       "    <tr style=\"text-align: right;\">\n",
       "      <th></th>\n",
       "      <th>bildirimsiz_sum</th>\n",
       "      <th>max_wind_speed_10mms</th>\n",
       "      <th>max_prob_precip_1hp</th>\n",
       "      <th>yil_sin</th>\n",
       "      <th>yil_cos</th>\n",
       "      <th>ay_sin</th>\n",
       "      <th>ay_cos</th>\n",
       "      <th>haftanin_gunu_sin</th>\n",
       "      <th>haftanin_gunu_cos</th>\n",
       "      <th>ilce_izmir-aliaga</th>\n",
       "      <th>...</th>\n",
       "      <th>ilce_manisa-koprubasi</th>\n",
       "      <th>ilce_manisa-kula</th>\n",
       "      <th>ilce_manisa-salihli</th>\n",
       "      <th>ilce_manisa-sarigol</th>\n",
       "      <th>ilce_manisa-saruhanli</th>\n",
       "      <th>ilce_manisa-sehzadeler</th>\n",
       "      <th>ilce_manisa-selendi</th>\n",
       "      <th>ilce_manisa-soma</th>\n",
       "      <th>ilce_manisa-turgutlu</th>\n",
       "      <th>ilce_manisa-yunusemre</th>\n",
       "    </tr>\n",
       "  </thead>\n",
       "  <tbody>\n",
       "    <tr>\n",
       "      <th>0</th>\n",
       "      <td>5.0</td>\n",
       "      <td>6.4</td>\n",
       "      <td>1.0</td>\n",
       "      <td>-0.230306</td>\n",
       "      <td>-0.973118</td>\n",
       "      <td>0.5</td>\n",
       "      <td>0.866025</td>\n",
       "      <td>-0.433884</td>\n",
       "      <td>-0.900969</td>\n",
       "      <td>1</td>\n",
       "      <td>...</td>\n",
       "      <td>0</td>\n",
       "      <td>0</td>\n",
       "      <td>0</td>\n",
       "      <td>0</td>\n",
       "      <td>0</td>\n",
       "      <td>0</td>\n",
       "      <td>0</td>\n",
       "      <td>0</td>\n",
       "      <td>0</td>\n",
       "      <td>0</td>\n",
       "    </tr>\n",
       "    <tr>\n",
       "      <th>1</th>\n",
       "      <td>10.0</td>\n",
       "      <td>8.5</td>\n",
       "      <td>1.0</td>\n",
       "      <td>-0.230306</td>\n",
       "      <td>-0.973118</td>\n",
       "      <td>0.5</td>\n",
       "      <td>0.866025</td>\n",
       "      <td>-0.433884</td>\n",
       "      <td>-0.900969</td>\n",
       "      <td>0</td>\n",
       "      <td>...</td>\n",
       "      <td>0</td>\n",
       "      <td>0</td>\n",
       "      <td>0</td>\n",
       "      <td>0</td>\n",
       "      <td>0</td>\n",
       "      <td>0</td>\n",
       "      <td>0</td>\n",
       "      <td>0</td>\n",
       "      <td>0</td>\n",
       "      <td>0</td>\n",
       "    </tr>\n",
       "    <tr>\n",
       "      <th>2</th>\n",
       "      <td>1.0</td>\n",
       "      <td>5.7</td>\n",
       "      <td>6.7</td>\n",
       "      <td>-0.230306</td>\n",
       "      <td>-0.973118</td>\n",
       "      <td>0.5</td>\n",
       "      <td>0.866025</td>\n",
       "      <td>-0.433884</td>\n",
       "      <td>-0.900969</td>\n",
       "      <td>0</td>\n",
       "      <td>...</td>\n",
       "      <td>0</td>\n",
       "      <td>0</td>\n",
       "      <td>0</td>\n",
       "      <td>0</td>\n",
       "      <td>0</td>\n",
       "      <td>0</td>\n",
       "      <td>0</td>\n",
       "      <td>0</td>\n",
       "      <td>0</td>\n",
       "      <td>0</td>\n",
       "    </tr>\n",
       "    <tr>\n",
       "      <th>3</th>\n",
       "      <td>4.0</td>\n",
       "      <td>3.6</td>\n",
       "      <td>3.1</td>\n",
       "      <td>-0.230306</td>\n",
       "      <td>-0.973118</td>\n",
       "      <td>0.5</td>\n",
       "      <td>0.866025</td>\n",
       "      <td>-0.433884</td>\n",
       "      <td>-0.900969</td>\n",
       "      <td>0</td>\n",
       "      <td>...</td>\n",
       "      <td>0</td>\n",
       "      <td>0</td>\n",
       "      <td>0</td>\n",
       "      <td>0</td>\n",
       "      <td>0</td>\n",
       "      <td>0</td>\n",
       "      <td>0</td>\n",
       "      <td>0</td>\n",
       "      <td>1</td>\n",
       "      <td>0</td>\n",
       "    </tr>\n",
       "    <tr>\n",
       "      <th>4</th>\n",
       "      <td>5.0</td>\n",
       "      <td>1.5</td>\n",
       "      <td>1.0</td>\n",
       "      <td>-0.230306</td>\n",
       "      <td>-0.973118</td>\n",
       "      <td>0.5</td>\n",
       "      <td>0.866025</td>\n",
       "      <td>-0.433884</td>\n",
       "      <td>-0.900969</td>\n",
       "      <td>0</td>\n",
       "      <td>...</td>\n",
       "      <td>0</td>\n",
       "      <td>0</td>\n",
       "      <td>1</td>\n",
       "      <td>0</td>\n",
       "      <td>0</td>\n",
       "      <td>0</td>\n",
       "      <td>0</td>\n",
       "      <td>0</td>\n",
       "      <td>0</td>\n",
       "      <td>0</td>\n",
       "    </tr>\n",
       "  </tbody>\n",
       "</table>\n",
       "<p>5 rows × 56 columns</p>\n",
       "</div>"
      ],
      "text/plain": [
       "   bildirimsiz_sum  max_wind_speed_10mms  max_prob_precip_1hp   yil_sin  \\\n",
       "0              5.0                   6.4                  1.0 -0.230306   \n",
       "1             10.0                   8.5                  1.0 -0.230306   \n",
       "2              1.0                   5.7                  6.7 -0.230306   \n",
       "3              4.0                   3.6                  3.1 -0.230306   \n",
       "4              5.0                   1.5                  1.0 -0.230306   \n",
       "\n",
       "    yil_cos  ay_sin    ay_cos  haftanin_gunu_sin  haftanin_gunu_cos  \\\n",
       "0 -0.973118     0.5  0.866025          -0.433884          -0.900969   \n",
       "1 -0.973118     0.5  0.866025          -0.433884          -0.900969   \n",
       "2 -0.973118     0.5  0.866025          -0.433884          -0.900969   \n",
       "3 -0.973118     0.5  0.866025          -0.433884          -0.900969   \n",
       "4 -0.973118     0.5  0.866025          -0.433884          -0.900969   \n",
       "\n",
       "   ilce_izmir-aliaga  ...  ilce_manisa-koprubasi  ilce_manisa-kula  \\\n",
       "0                  1  ...                      0                 0   \n",
       "1                  0  ...                      0                 0   \n",
       "2                  0  ...                      0                 0   \n",
       "3                  0  ...                      0                 0   \n",
       "4                  0  ...                      0                 0   \n",
       "\n",
       "   ilce_manisa-salihli  ilce_manisa-sarigol  ilce_manisa-saruhanli  \\\n",
       "0                    0                    0                      0   \n",
       "1                    0                    0                      0   \n",
       "2                    0                    0                      0   \n",
       "3                    0                    0                      0   \n",
       "4                    1                    0                      0   \n",
       "\n",
       "   ilce_manisa-sehzadeler  ilce_manisa-selendi  ilce_manisa-soma  \\\n",
       "0                       0                    0                 0   \n",
       "1                       0                    0                 0   \n",
       "2                       0                    0                 0   \n",
       "3                       0                    0                 0   \n",
       "4                       0                    0                 0   \n",
       "\n",
       "   ilce_manisa-turgutlu  ilce_manisa-yunusemre  \n",
       "0                     0                      0  \n",
       "1                     0                      0  \n",
       "2                     0                      0  \n",
       "3                     1                      0  \n",
       "4                     0                      0  \n",
       "\n",
       "[5 rows x 56 columns]"
      ]
     },
     "execution_count": 14,
     "metadata": {},
     "output_type": "execute_result"
    }
   ],
   "source": [
    "train_df=train_df.rename(columns = lambda x:re.sub('[^A-Za-z0-9_]+', '', x))\n",
    "train_df=pd.get_dummies(data=train_df, prefix=\"ilce\", dtype=\"int\")\n",
    "train_df.head()"
   ]
  },
  {
   "cell_type": "code",
   "execution_count": 15,
   "id": "5d1f8028-2072-4da8-a1e7-b8c93b8f4272",
   "metadata": {
    "colab": {
     "base_uri": "https://localhost:8080/",
     "height": 255
    },
    "executionInfo": {
     "elapsed": 4263,
     "status": "ok",
     "timestamp": 1714760337387,
     "user": {
      "displayName": "Sezgin Katirci",
      "userId": "08444718595636690061"
     },
     "user_tz": -180
    },
    "id": "5d1f8028-2072-4da8-a1e7-b8c93b8f4272",
    "outputId": "df510250-a11f-4ea5-cd71-e1dc5fd41929"
   },
   "outputs": [
    {
     "data": {
      "text/html": [
       "<div>\n",
       "<style scoped>\n",
       "    .dataframe tbody tr th:only-of-type {\n",
       "        vertical-align: middle;\n",
       "    }\n",
       "\n",
       "    .dataframe tbody tr th {\n",
       "        vertical-align: top;\n",
       "    }\n",
       "\n",
       "    .dataframe thead th {\n",
       "        text-align: right;\n",
       "    }\n",
       "</style>\n",
       "<table border=\"1\" class=\"dataframe\">\n",
       "  <thead>\n",
       "    <tr style=\"text-align: right;\">\n",
       "      <th></th>\n",
       "      <th>max_wind_speed_10mms</th>\n",
       "      <th>max_prob_precip_1hp</th>\n",
       "      <th>yil_sin</th>\n",
       "      <th>yil_cos</th>\n",
       "      <th>ay_sin</th>\n",
       "      <th>ay_cos</th>\n",
       "      <th>haftanin_gunu_sin</th>\n",
       "      <th>haftanin_gunu_cos</th>\n",
       "      <th>ilce_izmiraliaga</th>\n",
       "      <th>ilce_izmirbalcova</th>\n",
       "      <th>...</th>\n",
       "      <th>ilce_manisakoprubasi</th>\n",
       "      <th>ilce_manisakula</th>\n",
       "      <th>ilce_manisasalihli</th>\n",
       "      <th>ilce_manisasarigol</th>\n",
       "      <th>ilce_manisasaruhanli</th>\n",
       "      <th>ilce_manisasehzadeler</th>\n",
       "      <th>ilce_manisaselendi</th>\n",
       "      <th>ilce_manisasoma</th>\n",
       "      <th>ilce_manisaturgutlu</th>\n",
       "      <th>ilce_manisayunusemre</th>\n",
       "    </tr>\n",
       "  </thead>\n",
       "  <tbody>\n",
       "    <tr>\n",
       "      <th>0</th>\n",
       "      <td>7.0</td>\n",
       "      <td>1.0</td>\n",
       "      <td>-0.280231</td>\n",
       "      <td>-0.959933</td>\n",
       "      <td>0.866025</td>\n",
       "      <td>0.5</td>\n",
       "      <td>0.433884</td>\n",
       "      <td>-0.900969</td>\n",
       "      <td>1</td>\n",
       "      <td>0</td>\n",
       "      <td>...</td>\n",
       "      <td>0</td>\n",
       "      <td>0</td>\n",
       "      <td>0</td>\n",
       "      <td>0</td>\n",
       "      <td>0</td>\n",
       "      <td>0</td>\n",
       "      <td>0</td>\n",
       "      <td>0</td>\n",
       "      <td>0</td>\n",
       "      <td>0</td>\n",
       "    </tr>\n",
       "    <tr>\n",
       "      <th>1</th>\n",
       "      <td>2.8</td>\n",
       "      <td>1.0</td>\n",
       "      <td>-0.280231</td>\n",
       "      <td>-0.959933</td>\n",
       "      <td>0.866025</td>\n",
       "      <td>0.5</td>\n",
       "      <td>0.433884</td>\n",
       "      <td>-0.900969</td>\n",
       "      <td>0</td>\n",
       "      <td>0</td>\n",
       "      <td>...</td>\n",
       "      <td>0</td>\n",
       "      <td>0</td>\n",
       "      <td>0</td>\n",
       "      <td>0</td>\n",
       "      <td>0</td>\n",
       "      <td>0</td>\n",
       "      <td>0</td>\n",
       "      <td>0</td>\n",
       "      <td>0</td>\n",
       "      <td>0</td>\n",
       "    </tr>\n",
       "    <tr>\n",
       "      <th>2</th>\n",
       "      <td>3.3</td>\n",
       "      <td>1.0</td>\n",
       "      <td>-0.280231</td>\n",
       "      <td>-0.959933</td>\n",
       "      <td>0.866025</td>\n",
       "      <td>0.5</td>\n",
       "      <td>0.433884</td>\n",
       "      <td>-0.900969</td>\n",
       "      <td>0</td>\n",
       "      <td>0</td>\n",
       "      <td>...</td>\n",
       "      <td>0</td>\n",
       "      <td>0</td>\n",
       "      <td>0</td>\n",
       "      <td>0</td>\n",
       "      <td>0</td>\n",
       "      <td>0</td>\n",
       "      <td>0</td>\n",
       "      <td>0</td>\n",
       "      <td>0</td>\n",
       "      <td>0</td>\n",
       "    </tr>\n",
       "    <tr>\n",
       "      <th>3</th>\n",
       "      <td>5.8</td>\n",
       "      <td>1.0</td>\n",
       "      <td>-0.280231</td>\n",
       "      <td>-0.959933</td>\n",
       "      <td>0.866025</td>\n",
       "      <td>0.5</td>\n",
       "      <td>0.433884</td>\n",
       "      <td>-0.900969</td>\n",
       "      <td>0</td>\n",
       "      <td>0</td>\n",
       "      <td>...</td>\n",
       "      <td>0</td>\n",
       "      <td>0</td>\n",
       "      <td>0</td>\n",
       "      <td>0</td>\n",
       "      <td>0</td>\n",
       "      <td>0</td>\n",
       "      <td>0</td>\n",
       "      <td>0</td>\n",
       "      <td>0</td>\n",
       "      <td>0</td>\n",
       "    </tr>\n",
       "    <tr>\n",
       "      <th>4</th>\n",
       "      <td>3.6</td>\n",
       "      <td>1.0</td>\n",
       "      <td>-0.280231</td>\n",
       "      <td>-0.959933</td>\n",
       "      <td>0.866025</td>\n",
       "      <td>0.5</td>\n",
       "      <td>0.433884</td>\n",
       "      <td>-0.900969</td>\n",
       "      <td>0</td>\n",
       "      <td>0</td>\n",
       "      <td>...</td>\n",
       "      <td>0</td>\n",
       "      <td>0</td>\n",
       "      <td>0</td>\n",
       "      <td>0</td>\n",
       "      <td>0</td>\n",
       "      <td>0</td>\n",
       "      <td>0</td>\n",
       "      <td>0</td>\n",
       "      <td>0</td>\n",
       "      <td>0</td>\n",
       "    </tr>\n",
       "  </tbody>\n",
       "</table>\n",
       "<p>5 rows × 55 columns</p>\n",
       "</div>"
      ],
      "text/plain": [
       "   max_wind_speed_10mms  max_prob_precip_1hp   yil_sin   yil_cos    ay_sin  \\\n",
       "0                   7.0                  1.0 -0.280231 -0.959933  0.866025   \n",
       "1                   2.8                  1.0 -0.280231 -0.959933  0.866025   \n",
       "2                   3.3                  1.0 -0.280231 -0.959933  0.866025   \n",
       "3                   5.8                  1.0 -0.280231 -0.959933  0.866025   \n",
       "4                   3.6                  1.0 -0.280231 -0.959933  0.866025   \n",
       "\n",
       "   ay_cos  haftanin_gunu_sin  haftanin_gunu_cos  ilce_izmiraliaga  \\\n",
       "0     0.5           0.433884          -0.900969                 1   \n",
       "1     0.5           0.433884          -0.900969                 0   \n",
       "2     0.5           0.433884          -0.900969                 0   \n",
       "3     0.5           0.433884          -0.900969                 0   \n",
       "4     0.5           0.433884          -0.900969                 0   \n",
       "\n",
       "   ilce_izmirbalcova  ...  ilce_manisakoprubasi  ilce_manisakula  \\\n",
       "0                  0  ...                     0                0   \n",
       "1                  0  ...                     0                0   \n",
       "2                  0  ...                     0                0   \n",
       "3                  0  ...                     0                0   \n",
       "4                  0  ...                     0                0   \n",
       "\n",
       "   ilce_manisasalihli  ilce_manisasarigol  ilce_manisasaruhanli  \\\n",
       "0                   0                   0                     0   \n",
       "1                   0                   0                     0   \n",
       "2                   0                   0                     0   \n",
       "3                   0                   0                     0   \n",
       "4                   0                   0                     0   \n",
       "\n",
       "   ilce_manisasehzadeler  ilce_manisaselendi  ilce_manisasoma  \\\n",
       "0                      0                   0                0   \n",
       "1                      0                   0                0   \n",
       "2                      0                   0                0   \n",
       "3                      0                   0                0   \n",
       "4                      0                   0                0   \n",
       "\n",
       "   ilce_manisaturgutlu  ilce_manisayunusemre  \n",
       "0                    0                     0  \n",
       "1                    0                     0  \n",
       "2                    0                     0  \n",
       "3                    0                     0  \n",
       "4                    0                     0  \n",
       "\n",
       "[5 rows x 55 columns]"
      ]
     },
     "execution_count": 15,
     "metadata": {},
     "output_type": "execute_result"
    }
   ],
   "source": [
    "test_df=pd.get_dummies(data=test_df, prefix=\"ilce\", dtype=\"int\")\n",
    "test_df = test_df.rename(columns = lambda x:re.sub('[^A-Za-z0-9_]+', '', x))\n",
    "test_df.head()"
   ]
  },
  {
   "cell_type": "code",
   "execution_count": 16,
   "id": "c8ba32e0-f3c6-4c2f-ba64-8e733af2d22f",
   "metadata": {
    "executionInfo": {
     "elapsed": 9,
     "status": "ok",
     "timestamp": 1714760337387,
     "user": {
      "displayName": "Sezgin Katirci",
      "userId": "08444718595636690061"
     },
     "user_tz": -180
    },
    "id": "c8ba32e0-f3c6-4c2f-ba64-8e733af2d22f"
   },
   "outputs": [],
   "source": [
    "y=train_df[\"bildirimsiz_sum\"]\n",
    "x=train_df.drop(\"bildirimsiz_sum\",axis=1)"
   ]
  },
  {
   "cell_type": "code",
   "execution_count": 17,
   "id": "5445a099-7161-4272-92cf-32a8cc26eac1",
   "metadata": {
    "colab": {
     "base_uri": "https://localhost:8080/"
    },
    "executionInfo": {
     "elapsed": 8,
     "status": "ok",
     "timestamp": 1714760337387,
     "user": {
      "displayName": "Sezgin Katirci",
      "userId": "08444718595636690061"
     },
     "user_tz": -180
    },
    "id": "5445a099-7161-4272-92cf-32a8cc26eac1",
    "outputId": "5c3bcaea-e36e-4e68-8e2f-9ab6b3c62719"
   },
   "outputs": [
    {
     "name": "stdout",
     "output_type": "stream",
     "text": [
      "(42330, 55) (10583, 55) (42330,) (10583,)\n"
     ]
    }
   ],
   "source": [
    "X_train=x[:int(len(x)*0.8)]\n",
    "X_test=x[int(len(x)*0.8):]\n",
    "y_train=y[:int(len(y)*0.8)]\n",
    "y_test=y[int(len(y)*0.8):]\n",
    "print(X_train.shape,X_test.shape,y_train.shape,y_test.shape)"
   ]
  },
  {
   "cell_type": "code",
   "execution_count": 18,
   "id": "f03db6e1-6df0-4328-ac59-4b5b24382b0c",
   "metadata": {
    "colab": {
     "background_save": true,
     "base_uri": "https://localhost:8080/"
    },
    "id": "f03db6e1-6df0-4328-ac59-4b5b24382b0c"
   },
   "outputs": [
    {
     "name": "stdout",
     "output_type": "stream",
     "text": [
      "Fitting 5 folds for each of 900 candidates, totalling 4500 fits\n"
     ]
    },
    {
     "name": "stderr",
     "output_type": "stream",
     "text": [
      "C:\\Users\\Dell\\anaconda3\\Lib\\site-packages\\joblib\\externals\\loky\\backend\\context.py:110: UserWarning: Could not find the number of physical cores for the following reason:\n",
      "found 0 physical cores < 1\n",
      "Returning the number of logical cores instead. You can silence this warning by setting LOKY_MAX_CPU_COUNT to the number of cores you want to use.\n",
      "  warnings.warn(\n",
      "  File \"C:\\Users\\Dell\\anaconda3\\Lib\\site-packages\\joblib\\externals\\loky\\backend\\context.py\", line 217, in _count_physical_cores\n",
      "    raise ValueError(\n"
     ]
    },
    {
     "name": "stdout",
     "output_type": "stream",
     "text": [
      "[LightGBM] [Info] Auto-choosing row-wise multi-threading, the overhead of testing was 0.000472 seconds.\n",
      "You can set `force_row_wise=true` to remove the overhead.\n",
      "And if memory is not enough, you can set `force_col_wise=true`.\n",
      "[LightGBM] [Info] Total Bins 522\n",
      "[LightGBM] [Info] Number of data points in the train set: 42330, number of used features: 55\n",
      "[LightGBM] [Info] Start training from score 5.321214\n",
      "[LightGBM] [Warning] No further splits with positive gain, best gain: -inf\n",
      "[LightGBM] [Warning] No further splits with positive gain, best gain: -inf\n",
      "[LightGBM] [Warning] No further splits with positive gain, best gain: -inf\n",
      "[LightGBM] [Warning] No further splits with positive gain, best gain: -inf\n",
      "[LightGBM] [Warning] No further splits with positive gain, best gain: -inf\n",
      "[LightGBM] [Warning] No further splits with positive gain, best gain: -inf\n",
      "[LightGBM] [Warning] No further splits with positive gain, best gain: -inf\n",
      "[LightGBM] [Warning] No further splits with positive gain, best gain: -inf\n",
      "[LightGBM] [Warning] No further splits with positive gain, best gain: -inf\n",
      "[LightGBM] [Warning] No further splits with positive gain, best gain: -inf\n",
      "[LightGBM] [Warning] No further splits with positive gain, best gain: -inf\n",
      "[LightGBM] [Warning] No further splits with positive gain, best gain: -inf\n",
      "[LightGBM] [Warning] No further splits with positive gain, best gain: -inf\n",
      "[LightGBM] [Warning] No further splits with positive gain, best gain: -inf\n",
      "[LightGBM] [Warning] No further splits with positive gain, best gain: -inf\n",
      "[LightGBM] [Warning] No further splits with positive gain, best gain: -inf\n",
      "[LightGBM] [Warning] No further splits with positive gain, best gain: -inf\n",
      "[LightGBM] [Warning] No further splits with positive gain, best gain: -inf\n",
      "[LightGBM] [Warning] No further splits with positive gain, best gain: -inf\n",
      "[LightGBM] [Warning] No further splits with positive gain, best gain: -inf\n",
      "[LightGBM] [Warning] No further splits with positive gain, best gain: -inf\n",
      "[LightGBM] [Warning] No further splits with positive gain, best gain: -inf\n",
      "[LightGBM] [Warning] No further splits with positive gain, best gain: -inf\n",
      "[LightGBM] [Warning] No further splits with positive gain, best gain: -inf\n",
      "[LightGBM] [Warning] No further splits with positive gain, best gain: -inf\n",
      "[LightGBM] [Warning] No further splits with positive gain, best gain: -inf\n",
      "[LightGBM] [Warning] No further splits with positive gain, best gain: -inf\n",
      "[LightGBM] [Warning] No further splits with positive gain, best gain: -inf\n",
      "[LightGBM] [Warning] No further splits with positive gain, best gain: -inf\n",
      "[LightGBM] [Warning] No further splits with positive gain, best gain: -inf\n",
      "[LightGBM] [Warning] No further splits with positive gain, best gain: -inf\n",
      "[LightGBM] [Warning] No further splits with positive gain, best gain: -inf\n",
      "[LightGBM] [Warning] No further splits with positive gain, best gain: -inf\n",
      "[LightGBM] [Warning] No further splits with positive gain, best gain: -inf\n",
      "[LightGBM] [Warning] No further splits with positive gain, best gain: -inf\n",
      "[LightGBM] [Warning] No further splits with positive gain, best gain: -inf\n",
      "[LightGBM] [Warning] No further splits with positive gain, best gain: -inf\n",
      "[LightGBM] [Warning] No further splits with positive gain, best gain: -inf\n",
      "[LightGBM] [Warning] No further splits with positive gain, best gain: -inf\n",
      "[LightGBM] [Warning] No further splits with positive gain, best gain: -inf\n",
      "[LightGBM] [Warning] No further splits with positive gain, best gain: -inf\n",
      "[LightGBM] [Warning] No further splits with positive gain, best gain: -inf\n",
      "[LightGBM] [Warning] No further splits with positive gain, best gain: -inf\n"
     ]
    }
   ],
   "source": [
    "from sklearn.model_selection import cross_val_score, GridSearchCV, cross_validate\n",
    "lgbm_params={\"max_depth\":[3,5,8,-1,7],\n",
    "            \"learning_rate\":[0.01,0.1],\n",
    "            \"n_estimators\":[100,200,400,600,1000,1500],\n",
    "            \"subsample\":[0.6,0.8,1],\n",
    "            \"random_state\":[14],\n",
    "            \"num_leaves\": [31,15,50,70,100]}\n",
    "from lightgbm import LGBMRegressor\n",
    "lgbm_model=LGBMRegressor()\n",
    "lgbm_best_grid=GridSearchCV(lgbm_model,\n",
    "                           lgbm_params,\n",
    "                           cv=5,\n",
    "                           n_jobs=-1,\n",
    "                           verbose=True).fit(X_train, y_train)"
   ]
  },
  {
   "cell_type": "code",
   "execution_count": 19,
   "id": "2bd16d16-4e61-436f-8814-34aa5ff45ffe",
   "metadata": {
    "colab": {
     "background_save": true
    },
    "id": "2bd16d16-4e61-436f-8814-34aa5ff45ffe"
   },
   "outputs": [
    {
     "data": {
      "text/plain": [
       "{'learning_rate': 0.1,\n",
       " 'max_depth': 3,\n",
       " 'n_estimators': 400,\n",
       " 'num_leaves': 31,\n",
       " 'random_state': 14,\n",
       " 'subsample': 0.6}"
      ]
     },
     "execution_count": 19,
     "metadata": {},
     "output_type": "execute_result"
    }
   ],
   "source": [
    "best_params=lgbm_best_grid.best_params_\n",
    "best_params"
   ]
  },
  {
   "cell_type": "code",
   "execution_count": 20,
   "id": "a14f9876-9aa9-4d4a-a028-e897f9249194",
   "metadata": {
    "colab": {
     "background_save": true
    },
    "id": "a14f9876-9aa9-4d4a-a028-e897f9249194"
   },
   "outputs": [
    {
     "name": "stdout",
     "output_type": "stream",
     "text": [
      "[LightGBM] [Info] Auto-choosing row-wise multi-threading, the overhead of testing was 0.000338 seconds.\n",
      "You can set `force_row_wise=true` to remove the overhead.\n",
      "And if memory is not enough, you can set `force_col_wise=true`.\n",
      "[LightGBM] [Info] Total Bins 522\n",
      "[LightGBM] [Info] Number of data points in the train set: 42330, number of used features: 55\n",
      "[LightGBM] [Info] Start training from score 5.321214\n",
      "[LightGBM] [Warning] No further splits with positive gain, best gain: -inf\n",
      "[LightGBM] [Warning] No further splits with positive gain, best gain: -inf\n",
      "[LightGBM] [Warning] No further splits with positive gain, best gain: -inf\n",
      "[LightGBM] [Warning] No further splits with positive gain, best gain: -inf\n",
      "[LightGBM] [Warning] No further splits with positive gain, best gain: -inf\n",
      "[LightGBM] [Warning] No further splits with positive gain, best gain: -inf\n",
      "[LightGBM] [Warning] No further splits with positive gain, best gain: -inf\n",
      "[LightGBM] [Warning] No further splits with positive gain, best gain: -inf\n",
      "[LightGBM] [Warning] No further splits with positive gain, best gain: -inf\n",
      "[LightGBM] [Warning] No further splits with positive gain, best gain: -inf\n",
      "[LightGBM] [Warning] No further splits with positive gain, best gain: -inf\n",
      "[LightGBM] [Warning] No further splits with positive gain, best gain: -inf\n",
      "[LightGBM] [Warning] No further splits with positive gain, best gain: -inf\n",
      "[LightGBM] [Warning] No further splits with positive gain, best gain: -inf\n",
      "[LightGBM] [Warning] No further splits with positive gain, best gain: -inf\n",
      "[LightGBM] [Warning] No further splits with positive gain, best gain: -inf\n",
      "[LightGBM] [Warning] No further splits with positive gain, best gain: -inf\n",
      "[LightGBM] [Warning] No further splits with positive gain, best gain: -inf\n",
      "[LightGBM] [Warning] No further splits with positive gain, best gain: -inf\n",
      "[LightGBM] [Warning] No further splits with positive gain, best gain: -inf\n",
      "[LightGBM] [Warning] No further splits with positive gain, best gain: -inf\n",
      "[LightGBM] [Warning] No further splits with positive gain, best gain: -inf\n",
      "[LightGBM] [Warning] No further splits with positive gain, best gain: -inf\n",
      "[LightGBM] [Warning] No further splits with positive gain, best gain: -inf\n",
      "[LightGBM] [Warning] No further splits with positive gain, best gain: -inf\n",
      "[LightGBM] [Warning] No further splits with positive gain, best gain: -inf\n",
      "[LightGBM] [Warning] No further splits with positive gain, best gain: -inf\n",
      "[LightGBM] [Warning] No further splits with positive gain, best gain: -inf\n",
      "[LightGBM] [Warning] No further splits with positive gain, best gain: -inf\n",
      "[LightGBM] [Warning] No further splits with positive gain, best gain: -inf\n",
      "[LightGBM] [Warning] No further splits with positive gain, best gain: -inf\n",
      "[LightGBM] [Warning] No further splits with positive gain, best gain: -inf\n",
      "[LightGBM] [Warning] No further splits with positive gain, best gain: -inf\n",
      "[LightGBM] [Warning] No further splits with positive gain, best gain: -inf\n",
      "[LightGBM] [Warning] No further splits with positive gain, best gain: -inf\n",
      "[LightGBM] [Warning] No further splits with positive gain, best gain: -inf\n",
      "[LightGBM] [Warning] No further splits with positive gain, best gain: -inf\n",
      "[LightGBM] [Warning] No further splits with positive gain, best gain: -inf\n",
      "[LightGBM] [Warning] No further splits with positive gain, best gain: -inf\n",
      "[LightGBM] [Warning] No further splits with positive gain, best gain: -inf\n",
      "[LightGBM] [Warning] No further splits with positive gain, best gain: -inf\n",
      "[LightGBM] [Warning] No further splits with positive gain, best gain: -inf\n",
      "[LightGBM] [Warning] No further splits with positive gain, best gain: -inf\n"
     ]
    },
    {
     "data": {
      "text/html": [
       "<style>#sk-container-id-1 {color: black;}#sk-container-id-1 pre{padding: 0;}#sk-container-id-1 div.sk-toggleable {background-color: white;}#sk-container-id-1 label.sk-toggleable__label {cursor: pointer;display: block;width: 100%;margin-bottom: 0;padding: 0.3em;box-sizing: border-box;text-align: center;}#sk-container-id-1 label.sk-toggleable__label-arrow:before {content: \"▸\";float: left;margin-right: 0.25em;color: #696969;}#sk-container-id-1 label.sk-toggleable__label-arrow:hover:before {color: black;}#sk-container-id-1 div.sk-estimator:hover label.sk-toggleable__label-arrow:before {color: black;}#sk-container-id-1 div.sk-toggleable__content {max-height: 0;max-width: 0;overflow: hidden;text-align: left;background-color: #f0f8ff;}#sk-container-id-1 div.sk-toggleable__content pre {margin: 0.2em;color: black;border-radius: 0.25em;background-color: #f0f8ff;}#sk-container-id-1 input.sk-toggleable__control:checked~div.sk-toggleable__content {max-height: 200px;max-width: 100%;overflow: auto;}#sk-container-id-1 input.sk-toggleable__control:checked~label.sk-toggleable__label-arrow:before {content: \"▾\";}#sk-container-id-1 div.sk-estimator input.sk-toggleable__control:checked~label.sk-toggleable__label {background-color: #d4ebff;}#sk-container-id-1 div.sk-label input.sk-toggleable__control:checked~label.sk-toggleable__label {background-color: #d4ebff;}#sk-container-id-1 input.sk-hidden--visually {border: 0;clip: rect(1px 1px 1px 1px);clip: rect(1px, 1px, 1px, 1px);height: 1px;margin: -1px;overflow: hidden;padding: 0;position: absolute;width: 1px;}#sk-container-id-1 div.sk-estimator {font-family: monospace;background-color: #f0f8ff;border: 1px dotted black;border-radius: 0.25em;box-sizing: border-box;margin-bottom: 0.5em;}#sk-container-id-1 div.sk-estimator:hover {background-color: #d4ebff;}#sk-container-id-1 div.sk-parallel-item::after {content: \"\";width: 100%;border-bottom: 1px solid gray;flex-grow: 1;}#sk-container-id-1 div.sk-label:hover label.sk-toggleable__label {background-color: #d4ebff;}#sk-container-id-1 div.sk-serial::before {content: \"\";position: absolute;border-left: 1px solid gray;box-sizing: border-box;top: 0;bottom: 0;left: 50%;z-index: 0;}#sk-container-id-1 div.sk-serial {display: flex;flex-direction: column;align-items: center;background-color: white;padding-right: 0.2em;padding-left: 0.2em;position: relative;}#sk-container-id-1 div.sk-item {position: relative;z-index: 1;}#sk-container-id-1 div.sk-parallel {display: flex;align-items: stretch;justify-content: center;background-color: white;position: relative;}#sk-container-id-1 div.sk-item::before, #sk-container-id-1 div.sk-parallel-item::before {content: \"\";position: absolute;border-left: 1px solid gray;box-sizing: border-box;top: 0;bottom: 0;left: 50%;z-index: -1;}#sk-container-id-1 div.sk-parallel-item {display: flex;flex-direction: column;z-index: 1;position: relative;background-color: white;}#sk-container-id-1 div.sk-parallel-item:first-child::after {align-self: flex-end;width: 50%;}#sk-container-id-1 div.sk-parallel-item:last-child::after {align-self: flex-start;width: 50%;}#sk-container-id-1 div.sk-parallel-item:only-child::after {width: 0;}#sk-container-id-1 div.sk-dashed-wrapped {border: 1px dashed gray;margin: 0 0.4em 0.5em 0.4em;box-sizing: border-box;padding-bottom: 0.4em;background-color: white;}#sk-container-id-1 div.sk-label label {font-family: monospace;font-weight: bold;display: inline-block;line-height: 1.2em;}#sk-container-id-1 div.sk-label-container {text-align: center;}#sk-container-id-1 div.sk-container {/* jupyter's `normalize.less` sets `[hidden] { display: none; }` but bootstrap.min.css set `[hidden] { display: none !important; }` so we also need the `!important` here to be able to override the default hidden behavior on the sphinx rendered scikit-learn.org. See: https://github.com/scikit-learn/scikit-learn/issues/21755 */display: inline-block !important;position: relative;}#sk-container-id-1 div.sk-text-repr-fallback {display: none;}</style><div id=\"sk-container-id-1\" class=\"sk-top-container\"><div class=\"sk-text-repr-fallback\"><pre>LGBMRegressor(max_depth=3, n_estimators=400, random_state=14, subsample=0.6)</pre><b>In a Jupyter environment, please rerun this cell to show the HTML representation or trust the notebook. <br />On GitHub, the HTML representation is unable to render, please try loading this page with nbviewer.org.</b></div><div class=\"sk-container\" hidden><div class=\"sk-item\"><div class=\"sk-estimator sk-toggleable\"><input class=\"sk-toggleable__control sk-hidden--visually\" id=\"sk-estimator-id-1\" type=\"checkbox\" checked><label for=\"sk-estimator-id-1\" class=\"sk-toggleable__label sk-toggleable__label-arrow\">LGBMRegressor</label><div class=\"sk-toggleable__content\"><pre>LGBMRegressor(max_depth=3, n_estimators=400, random_state=14, subsample=0.6)</pre></div></div></div></div></div>"
      ],
      "text/plain": [
       "LGBMRegressor(max_depth=3, n_estimators=400, random_state=14, subsample=0.6)"
      ]
     },
     "execution_count": 20,
     "metadata": {},
     "output_type": "execute_result"
    }
   ],
   "source": [
    "from lightgbm import LGBMRegressor\n",
    "lgbm_model=LGBMRegressor(**lgbm_best_grid.best_params_)\n",
    "lgbm_model.fit(X_train,y_train)"
   ]
  },
  {
   "cell_type": "code",
   "execution_count": 21,
   "id": "91c27b60-4c5f-4082-b4e3-a3f08b62dbcf",
   "metadata": {
    "colab": {
     "background_save": true
    },
    "id": "91c27b60-4c5f-4082-b4e3-a3f08b62dbcf"
   },
   "outputs": [
    {
     "data": {
      "text/plain": [
       "array([-27.62771525, -20.06081094, -14.22419062, -12.21544859,\n",
       "       -17.82721736])"
      ]
     },
     "execution_count": 21,
     "metadata": {},
     "output_type": "execute_result"
    }
   ],
   "source": [
    "cross_val_score(lgbm_model,\n",
    "                X_train,\n",
    "                y_train,\n",
    "                scoring=\"neg_mean_squared_error\",\n",
    "                cv=5,\n",
    "                n_jobs=-1)"
   ]
  },
  {
   "cell_type": "code",
   "execution_count": 22,
   "id": "bbd0f443-982a-443d-a989-a2278ccadece",
   "metadata": {
    "colab": {
     "background_save": true
    },
    "id": "bbd0f443-982a-443d-a989-a2278ccadece"
   },
   "outputs": [
    {
     "name": "stdout",
     "output_type": "stream",
     "text": [
      "MAE:  2.908764352865334\n"
     ]
    }
   ],
   "source": [
    "y_pred = lgbm_model.predict(X_test)\n",
    "print(\"MAE: \",mean_absolute_error(y_test,y_pred))"
   ]
  },
  {
   "cell_type": "code",
   "execution_count": 23,
   "id": "67f4b15c-8bb7-4dc0-a93b-f0c956875ae7",
   "metadata": {
    "colab": {
     "background_save": true
    },
    "id": "67f4b15c-8bb7-4dc0-a93b-f0c956875ae7"
   },
   "outputs": [
    {
     "data": {
      "image/png": "[encoded data removed]",
      "text/plain": [
       "<Figure size 640x480 with 1 Axes>"
      ]
     },
     "metadata": {},
     "output_type": "display_data"
    }
   ],
   "source": [
    "ax = lgb.plot_importance(lgbm_model,max_num_features=8)\n",
    "plt.show()"
   ]
  },
  {
   "cell_type": "code",
   "execution_count": 24,
   "id": "2a58b749-791a-416a-88eb-b9e970473554",
   "metadata": {
    "colab": {
     "background_save": true
    },
    "id": "2a58b749-791a-416a-88eb-b9e970473554"
   },
   "outputs": [
    {
     "name": "stdout",
     "output_type": "stream",
     "text": [
      "unique_id          0\n",
      "bildirimsiz_sum    0\n",
      "dtype: int64\n"
     ]
    },
    {
     "name": "stderr",
     "output_type": "stream",
     "text": [
      "C:\\Users\\Dell\\AppData\\Local\\Temp\\ipykernel_20128\\1811979814.py:6: SettingWithCopyWarning: \n",
      "A value is trying to be set on a copy of a slice from a DataFrame.\n",
      "Try using .loc[row_indexer,col_indexer] = value instead\n",
      "\n",
      "See the caveats in the documentation: https://pandas.pydata.org/pandas-docs/stable/user_guide/indexing.html#returning-a-view-versus-a-copy\n",
      "  predict[\"bildirimsiz_sum\"]=test[\"bildirimsiz_sum\"]\n"
     ]
    },
    {
     "data": {
      "text/html": [
       "<div>\n",
       "<style scoped>\n",
       "    .dataframe tbody tr th:only-of-type {\n",
       "        vertical-align: middle;\n",
       "    }\n",
       "\n",
       "    .dataframe tbody tr th {\n",
       "        vertical-align: top;\n",
       "    }\n",
       "\n",
       "    .dataframe thead th {\n",
       "        text-align: right;\n",
       "    }\n",
       "</style>\n",
       "<table border=\"1\" class=\"dataframe\">\n",
       "  <thead>\n",
       "    <tr style=\"text-align: right;\">\n",
       "      <th></th>\n",
       "      <th>unique_id</th>\n",
       "      <th>bildirimsiz_sum</th>\n",
       "    </tr>\n",
       "  </thead>\n",
       "  <tbody>\n",
       "    <tr>\n",
       "      <th>0</th>\n",
       "      <td>2024-02-01-izmir-aliaga</td>\n",
       "      <td>4</td>\n",
       "    </tr>\n",
       "    <tr>\n",
       "      <th>1</th>\n",
       "      <td>2024-02-01-izmir-bayindir</td>\n",
       "      <td>3</td>\n",
       "    </tr>\n",
       "    <tr>\n",
       "      <th>2</th>\n",
       "      <td>2024-02-01-izmir-bayrakli</td>\n",
       "      <td>3</td>\n",
       "    </tr>\n",
       "    <tr>\n",
       "      <th>3</th>\n",
       "      <td>2024-02-01-izmir-bergama</td>\n",
       "      <td>4</td>\n",
       "    </tr>\n",
       "    <tr>\n",
       "      <th>4</th>\n",
       "      <td>2024-02-01-izmir-bornova</td>\n",
       "      <td>8</td>\n",
       "    </tr>\n",
       "  </tbody>\n",
       "</table>\n",
       "</div>"
      ],
      "text/plain": [
       "                   unique_id  bildirimsiz_sum\n",
       "0    2024-02-01-izmir-aliaga                4\n",
       "1  2024-02-01-izmir-bayindir                3\n",
       "2  2024-02-01-izmir-bayrakli                3\n",
       "3   2024-02-01-izmir-bergama                4\n",
       "4   2024-02-01-izmir-bornova                8"
      ]
     },
     "execution_count": 24,
     "metadata": {},
     "output_type": "execute_result"
    }
   ],
   "source": [
    "test[\"bildirimsiz_sum\"] = lgbm_model.predict(test_df)\n",
    "test[\"bildirimsiz_sum\"]=test[\"bildirimsiz_sum\"].astype(\"int\")\n",
    "test[\"unique_id\"]=[str(test[\"tarih\"][i])+\"-\"+str(test[\"ilce\"][i]) for i in range(0,len(test))]\n",
    "predict=pd.DataFrame()\n",
    "predict=test[[\"unique_id\",\"bildirimsiz_sum\"]]\n",
    "predict[\"bildirimsiz_sum\"]=test[\"bildirimsiz_sum\"]\n",
    "submission1=pd.merge(submission,predict,how=\"left\",on=\"unique_id\")\n",
    "submission1.drop(\"bildirimsiz_sum_x\",axis=1,inplace=True)\n",
    "submission1.columns=[\"unique_id\",\"bildirimsiz_sum\"]\n",
    "print(submission1.isnull().sum())\n",
    "submission1.head()"
   ]
  },
  {
   "cell_type": "code",
   "execution_count": 25,
   "id": "70e993d7-6b94-4726-8d0e-842cae8e43e7",
   "metadata": {
    "colab": {
     "background_save": true
    },
    "id": "70e993d7-6b94-4726-8d0e-842cae8e43e7"
   },
   "outputs": [],
   "source": [
    "submission1.to_csv(\"C:\\\\Users\\\\Dell\\\\Desktop\\\\GDZ Elektrik Datathon\\\\GDZ-Tahmin 21-LightGBM.csv\",index=False)"
   ]
  },
  {
   "cell_type": "code",
   "execution_count": 26,
   "id": "516aadde-c50a-4dab-be5b-8148ecf819f1",
   "metadata": {
    "colab": {
     "background_save": true
    },
    "id": "516aadde-c50a-4dab-be5b-8148ecf819f1"
   },
   "outputs": [
    {
     "name": "stdout",
     "output_type": "stream",
     "text": [
      "[LightGBM] [Debug] Dataset::GetMultiBinFromAllFeatures: sparse rate 0.095740\n",
      "[LightGBM] [Debug] init for col-wise cost 0.000004 seconds, init for row-wise cost 0.000738 seconds\n",
      "[LightGBM] [Info] Auto-choosing row-wise multi-threading, the overhead of testing was 0.000502 seconds.\n",
      "You can set `force_row_wise=true` to remove the overhead.\n",
      "And if memory is not enough, you can set `force_col_wise=true`.\n",
      "[LightGBM] [Debug] Using Dense Multi-Val Bin\n",
      "[LightGBM] [Info] Total Bins 522\n",
      "[LightGBM] [Info] Number of data points in the train set: 42330, number of used features: 55\n",
      "[LightGBM] [Info] Start training from score 5.321214\n",
      "[LightGBM] [Debug] Trained a tree with leaves = 5 and depth = 3\n",
      "Training until validation scores don't improve for 5 rounds\n",
      "[LightGBM] [Debug] Trained a tree with leaves = 5 and depth = 3\n",
      "[LightGBM] [Debug] Trained a tree with leaves = 5 and depth = 3\n",
      "[LightGBM] [Debug] Trained a tree with leaves = 5 and depth = 3\n",
      "[LightGBM] [Debug] Trained a tree with leaves = 5 and depth = 3\n",
      "[LightGBM] [Debug] Trained a tree with leaves = 5 and depth = 3\n",
      "[LightGBM] [Debug] Trained a tree with leaves = 5 and depth = 3\n",
      "[LightGBM] [Debug] Trained a tree with leaves = 5 and depth = 3\n",
      "[LightGBM] [Debug] Trained a tree with leaves = 5 and depth = 3\n",
      "[LightGBM] [Debug] Trained a tree with leaves = 5 and depth = 3\n",
      "[LightGBM] [Debug] Trained a tree with leaves = 5 and depth = 3\n",
      "[LightGBM] [Debug] Trained a tree with leaves = 5 and depth = 3\n",
      "[LightGBM] [Debug] Trained a tree with leaves = 5 and depth = 3\n",
      "[LightGBM] [Debug] Trained a tree with leaves = 5 and depth = 3\n",
      "[LightGBM] [Debug] Trained a tree with leaves = 5 and depth = 3\n",
      "[LightGBM] [Debug] Trained a tree with leaves = 5 and depth = 3\n",
      "[LightGBM] [Debug] Trained a tree with leaves = 5 and depth = 3\n",
      "[LightGBM] [Debug] Trained a tree with leaves = 5 and depth = 3\n",
      "[LightGBM] [Debug] Trained a tree with leaves = 5 and depth = 3\n",
      "[LightGBM] [Debug] Trained a tree with leaves = 5 and depth = 3\n",
      "[LightGBM] [Debug] Trained a tree with leaves = 5 and depth = 3\n",
      "[LightGBM] [Debug] Trained a tree with leaves = 5 and depth = 3\n",
      "[LightGBM] [Debug] Trained a tree with leaves = 5 and depth = 3\n",
      "[LightGBM] [Debug] Trained a tree with leaves = 5 and depth = 3\n",
      "[LightGBM] [Debug] Trained a tree with leaves = 5 and depth = 3\n",
      "[LightGBM] [Debug] Trained a tree with leaves = 5 and depth = 3\n",
      "[LightGBM] [Debug] Trained a tree with leaves = 5 and depth = 3\n",
      "[LightGBM] [Debug] Trained a tree with leaves = 5 and depth = 3\n",
      "[LightGBM] [Debug] Trained a tree with leaves = 5 and depth = 3\n",
      "[LightGBM] [Debug] Trained a tree with leaves = 5 and depth = 3\n",
      "[LightGBM] [Debug] Trained a tree with leaves = 5 and depth = 3\n",
      "[LightGBM] [Debug] Trained a tree with leaves = 5 and depth = 3\n",
      "[LightGBM] [Debug] Trained a tree with leaves = 5 and depth = 3\n",
      "[LightGBM] [Debug] Trained a tree with leaves = 5 and depth = 3\n",
      "[LightGBM] [Debug] Trained a tree with leaves = 5 and depth = 3\n",
      "[LightGBM] [Debug] Trained a tree with leaves = 5 and depth = 3\n",
      "[LightGBM] [Debug] Trained a tree with leaves = 5 and depth = 3\n",
      "[LightGBM] [Debug] Trained a tree with leaves = 5 and depth = 3\n",
      "[LightGBM] [Debug] Trained a tree with leaves = 5 and depth = 3\n",
      "[LightGBM] [Debug] Trained a tree with leaves = 5 and depth = 3\n",
      "[LightGBM] [Debug] Trained a tree with leaves = 5 and depth = 3\n",
      "[LightGBM] [Debug] Trained a tree with leaves = 5 and depth = 3\n",
      "[LightGBM] [Debug] Trained a tree with leaves = 5 and depth = 3\n",
      "[LightGBM] [Debug] Trained a tree with leaves = 5 and depth = 3\n",
      "[LightGBM] [Debug] Trained a tree with leaves = 5 and depth = 3\n",
      "[LightGBM] [Debug] Trained a tree with leaves = 5 and depth = 3\n",
      "[LightGBM] [Debug] Trained a tree with leaves = 5 and depth = 3\n",
      "[LightGBM] [Debug] Trained a tree with leaves = 5 and depth = 3\n",
      "[LightGBM] [Debug] Trained a tree with leaves = 5 and depth = 3\n",
      "[LightGBM] [Debug] Trained a tree with leaves = 5 and depth = 3\n",
      "[LightGBM] [Debug] Trained a tree with leaves = 5 and depth = 3\n",
      "[LightGBM] [Debug] Trained a tree with leaves = 5 and depth = 3\n",
      "[LightGBM] [Debug] Trained a tree with leaves = 5 and depth = 3\n",
      "[LightGBM] [Debug] Trained a tree with leaves = 5 and depth = 3\n",
      "[LightGBM] [Debug] Trained a tree with leaves = 5 and depth = 3\n",
      "[LightGBM] [Debug] Trained a tree with leaves = 5 and depth = 3\n",
      "[LightGBM] [Debug] Trained a tree with leaves = 5 and depth = 3\n",
      "[LightGBM] [Debug] Trained a tree with leaves = 5 and depth = 3\n",
      "[LightGBM] [Debug] Trained a tree with leaves = 5 and depth = 3\n",
      "[LightGBM] [Debug] Trained a tree with leaves = 5 and depth = 3\n",
      "[LightGBM] [Debug] Trained a tree with leaves = 5 and depth = 3\n",
      "[LightGBM] [Debug] Trained a tree with leaves = 5 and depth = 3\n",
      "[LightGBM] [Debug] Trained a tree with leaves = 5 and depth = 3\n",
      "[LightGBM] [Debug] Trained a tree with leaves = 5 and depth = 3\n",
      "[LightGBM] [Debug] Trained a tree with leaves = 5 and depth = 3\n",
      "[LightGBM] [Debug] Trained a tree with leaves = 5 and depth = 3\n",
      "[LightGBM] [Debug] Trained a tree with leaves = 5 and depth = 3\n",
      "[LightGBM] [Debug] Trained a tree with leaves = 5 and depth = 3\n",
      "[LightGBM] [Debug] Trained a tree with leaves = 5 and depth = 3\n",
      "[LightGBM] [Debug] Trained a tree with leaves = 5 and depth = 3\n",
      "[LightGBM] [Debug] Trained a tree with leaves = 5 and depth = 3\n",
      "[LightGBM] [Debug] Trained a tree with leaves = 5 and depth = 3\n",
      "[LightGBM] [Debug] Trained a tree with leaves = 5 and depth = 3\n",
      "[LightGBM] [Debug] Trained a tree with leaves = 5 and depth = 3\n",
      "[LightGBM] [Debug] Trained a tree with leaves = 5 and depth = 3\n",
      "[LightGBM] [Debug] Trained a tree with leaves = 5 and depth = 3\n",
      "[LightGBM] [Debug] Trained a tree with leaves = 5 and depth = 3\n",
      "[LightGBM] [Debug] Trained a tree with leaves = 5 and depth = 3\n",
      "[LightGBM] [Debug] Trained a tree with leaves = 5 and depth = 3\n",
      "[LightGBM] [Debug] Trained a tree with leaves = 5 and depth = 3\n",
      "[LightGBM] [Debug] Trained a tree with leaves = 5 and depth = 3\n",
      "[LightGBM] [Debug] Trained a tree with leaves = 5 and depth = 3\n",
      "[LightGBM] [Debug] Trained a tree with leaves = 5 and depth = 3\n",
      "[LightGBM] [Debug] Trained a tree with leaves = 5 and depth = 3\n",
      "[LightGBM] [Debug] Trained a tree with leaves = 5 and depth = 3\n",
      "[LightGBM] [Debug] Trained a tree with leaves = 5 and depth = 3\n",
      "[LightGBM] [Debug] Trained a tree with leaves = 5 and depth = 3\n",
      "[LightGBM] [Debug] Trained a tree with leaves = 5 and depth = 3\n",
      "[LightGBM] [Debug] Trained a tree with leaves = 5 and depth = 3\n",
      "[LightGBM] [Debug] Trained a tree with leaves = 5 and depth = 3\n",
      "[LightGBM] [Debug] Trained a tree with leaves = 5 and depth = 3\n",
      "[LightGBM] [Debug] Trained a tree with leaves = 5 and depth = 3\n",
      "[LightGBM] [Debug] Trained a tree with leaves = 5 and depth = 3\n",
      "[LightGBM] [Debug] Trained a tree with leaves = 5 and depth = 3\n",
      "[LightGBM] [Debug] Trained a tree with leaves = 5 and depth = 3\n",
      "[LightGBM] [Debug] Trained a tree with leaves = 5 and depth = 3\n",
      "[LightGBM] [Debug] Trained a tree with leaves = 5 and depth = 3\n",
      "[LightGBM] [Debug] Trained a tree with leaves = 5 and depth = 3\n",
      "[LightGBM] [Debug] Trained a tree with leaves = 5 and depth = 3\n",
      "[LightGBM] [Debug] Trained a tree with leaves = 5 and depth = 3\n",
      "[LightGBM] [Debug] Trained a tree with leaves = 5 and depth = 3\n",
      "[LightGBM] [Debug] Trained a tree with leaves = 5 and depth = 3\n",
      "[LightGBM] [Debug] Trained a tree with leaves = 5 and depth = 3\n",
      "[LightGBM] [Debug] Trained a tree with leaves = 5 and depth = 3\n",
      "[LightGBM] [Debug] Trained a tree with leaves = 5 and depth = 3\n",
      "[LightGBM] [Debug] Trained a tree with leaves = 5 and depth = 3\n",
      "[LightGBM] [Debug] Trained a tree with leaves = 5 and depth = 3\n",
      "[LightGBM] [Debug] Trained a tree with leaves = 5 and depth = 3\n",
      "[LightGBM] [Debug] Trained a tree with leaves = 5 and depth = 3\n",
      "[LightGBM] [Debug] Trained a tree with leaves = 5 and depth = 3\n",
      "[LightGBM] [Debug] Trained a tree with leaves = 5 and depth = 3\n",
      "[LightGBM] [Debug] Trained a tree with leaves = 5 and depth = 3\n",
      "[LightGBM] [Debug] Trained a tree with leaves = 5 and depth = 3\n",
      "[LightGBM] [Debug] Trained a tree with leaves = 5 and depth = 3\n",
      "[LightGBM] [Debug] Trained a tree with leaves = 5 and depth = 3\n",
      "[LightGBM] [Debug] Trained a tree with leaves = 5 and depth = 3\n",
      "[LightGBM] [Debug] Trained a tree with leaves = 5 and depth = 3\n",
      "[LightGBM] [Debug] Trained a tree with leaves = 5 and depth = 3\n",
      "[LightGBM] [Debug] Trained a tree with leaves = 5 and depth = 3\n",
      "[LightGBM] [Debug] Trained a tree with leaves = 5 and depth = 3\n",
      "[LightGBM] [Debug] Trained a tree with leaves = 5 and depth = 3\n",
      "[LightGBM] [Debug] Trained a tree with leaves = 5 and depth = 3\n",
      "[LightGBM] [Debug] Trained a tree with leaves = 5 and depth = 3\n",
      "[LightGBM] [Debug] Trained a tree with leaves = 5 and depth = 3\n",
      "[LightGBM] [Debug] Trained a tree with leaves = 5 and depth = 3\n",
      "[LightGBM] [Debug] Trained a tree with leaves = 5 and depth = 3\n",
      "[LightGBM] [Debug] Trained a tree with leaves = 5 and depth = 3\n",
      "[LightGBM] [Debug] Trained a tree with leaves = 5 and depth = 3\n",
      "[LightGBM] [Debug] Trained a tree with leaves = 5 and depth = 3\n",
      "[LightGBM] [Debug] Trained a tree with leaves = 5 and depth = 3\n",
      "[LightGBM] [Debug] Trained a tree with leaves = 5 and depth = 3\n",
      "[LightGBM] [Debug] Trained a tree with leaves = 5 and depth = 3\n",
      "[LightGBM] [Debug] Trained a tree with leaves = 5 and depth = 3\n",
      "[LightGBM] [Debug] Trained a tree with leaves = 5 and depth = 3\n",
      "[LightGBM] [Debug] Trained a tree with leaves = 5 and depth = 3\n",
      "[LightGBM] [Debug] Trained a tree with leaves = 5 and depth = 3\n",
      "[LightGBM] [Debug] Trained a tree with leaves = 5 and depth = 3\n",
      "[LightGBM] [Debug] Trained a tree with leaves = 5 and depth = 3\n",
      "[LightGBM] [Debug] Trained a tree with leaves = 5 and depth = 3\n",
      "[LightGBM] [Debug] Trained a tree with leaves = 5 and depth = 3\n",
      "[LightGBM] [Debug] Trained a tree with leaves = 5 and depth = 3\n",
      "[LightGBM] [Debug] Trained a tree with leaves = 5 and depth = 3\n",
      "[LightGBM] [Debug] Trained a tree with leaves = 5 and depth = 3\n",
      "[LightGBM] [Debug] Trained a tree with leaves = 5 and depth = 3\n",
      "[LightGBM] [Debug] Trained a tree with leaves = 5 and depth = 3\n",
      "[LightGBM] [Debug] Trained a tree with leaves = 5 and depth = 3\n",
      "[LightGBM] [Debug] Trained a tree with leaves = 5 and depth = 3\n",
      "[LightGBM] [Debug] Trained a tree with leaves = 5 and depth = 3\n",
      "[LightGBM] [Debug] Trained a tree with leaves = 5 and depth = 3\n",
      "Early stopping, best iteration is:\n",
      "[144]\tvalid_0's l2: 23.3268\n"
     ]
    },
    {
     "name": "stderr",
     "output_type": "stream",
     "text": [
      "C:\\Users\\Dell\\anaconda3\\Lib\\site-packages\\lightgbm\\engine.py:172: UserWarning: Found `n_estimators` in params. Will use it instead of argument\n",
      "  _log_warning(f\"Found `{alias}` in params. Will use it instead of argument\")\n"
     ]
    }
   ],
   "source": [
    "params = {\"random_state\": 14,\n",
    "          \"n_estimators\": 6000,\n",
    "          \"max_depth\": 3,\n",
    "          \"objective\":\"regression\",\n",
    "          \"verbose\":2,\n",
    "          \"learning_rate\": 0.1,\n",
    "          \"subsample\": 0.6,\n",
    "          \"num_leaves\": 5}\n",
    "lgb_train = lgb.Dataset(X_train, y_train)\n",
    "lgb_eval = lgb.Dataset(X_test, y_test, reference=lgb_train)\n",
    "gbm = lgb.train(params, lgb_train, valid_sets=lgb_eval, callbacks=[lgb.early_stopping(stopping_rounds=5)])"
   ]
  },
  {
   "cell_type": "code",
   "execution_count": 27,
   "id": "7760f0cf-e138-4068-ac59-c2bdf8485fd1",
   "metadata": {
    "colab": {
     "background_save": true
    },
    "id": "7760f0cf-e138-4068-ac59-c2bdf8485fd1"
   },
   "outputs": [
    {
     "name": "stdout",
     "output_type": "stream",
     "text": [
      "MAE:  3.001635370802595\n"
     ]
    }
   ],
   "source": [
    "y_pred = gbm.predict(X_test,num_iteration=gbm.best_iteration)\n",
    "print(\"MAE: \",mean_absolute_error(y_test,y_pred))"
   ]
  },
  {
   "cell_type": "code",
   "execution_count": 28,
   "id": "fca618d2-361c-43ed-a82b-fd8df87300a6",
   "metadata": {
    "colab": {
     "background_save": true
    },
    "id": "fca618d2-361c-43ed-a82b-fd8df87300a6"
   },
   "outputs": [
    {
     "data": {
      "image/png": "[encoded data removed]",
      "text/plain": [
       "<Figure size 640x480 with 1 Axes>"
      ]
     },
     "metadata": {},
     "output_type": "display_data"
    }
   ],
   "source": [
    "ax = lgb.plot_importance(gbm,max_num_features=8)\n",
    "plt.show()"
   ]
  },
  {
   "cell_type": "code",
   "execution_count": 29,
   "id": "15206f7c-6931-425e-912a-ecafde6977d5",
   "metadata": {
    "colab": {
     "background_save": true
    },
    "id": "15206f7c-6931-425e-912a-ecafde6977d5"
   },
   "outputs": [
    {
     "name": "stdout",
     "output_type": "stream",
     "text": [
      "unique_id          0\n",
      "bildirimsiz_sum    0\n",
      "dtype: int64\n"
     ]
    },
    {
     "name": "stderr",
     "output_type": "stream",
     "text": [
      "C:\\Users\\Dell\\AppData\\Local\\Temp\\ipykernel_20128\\1781531495.py:6: SettingWithCopyWarning: \n",
      "A value is trying to be set on a copy of a slice from a DataFrame.\n",
      "Try using .loc[row_indexer,col_indexer] = value instead\n",
      "\n",
      "See the caveats in the documentation: https://pandas.pydata.org/pandas-docs/stable/user_guide/indexing.html#returning-a-view-versus-a-copy\n",
      "  predict[\"bildirimsiz_sum\"]=test[\"bildirimsiz_sum\"]\n"
     ]
    },
    {
     "data": {
      "text/html": [
       "<div>\n",
       "<style scoped>\n",
       "    .dataframe tbody tr th:only-of-type {\n",
       "        vertical-align: middle;\n",
       "    }\n",
       "\n",
       "    .dataframe tbody tr th {\n",
       "        vertical-align: top;\n",
       "    }\n",
       "\n",
       "    .dataframe thead th {\n",
       "        text-align: right;\n",
       "    }\n",
       "</style>\n",
       "<table border=\"1\" class=\"dataframe\">\n",
       "  <thead>\n",
       "    <tr style=\"text-align: right;\">\n",
       "      <th></th>\n",
       "      <th>unique_id</th>\n",
       "      <th>bildirimsiz_sum</th>\n",
       "    </tr>\n",
       "  </thead>\n",
       "  <tbody>\n",
       "    <tr>\n",
       "      <th>0</th>\n",
       "      <td>2024-02-01-izmir-aliaga</td>\n",
       "      <td>4</td>\n",
       "    </tr>\n",
       "    <tr>\n",
       "      <th>1</th>\n",
       "      <td>2024-02-01-izmir-bayindir</td>\n",
       "      <td>4</td>\n",
       "    </tr>\n",
       "    <tr>\n",
       "      <th>2</th>\n",
       "      <td>2024-02-01-izmir-bayrakli</td>\n",
       "      <td>4</td>\n",
       "    </tr>\n",
       "    <tr>\n",
       "      <th>3</th>\n",
       "      <td>2024-02-01-izmir-bergama</td>\n",
       "      <td>4</td>\n",
       "    </tr>\n",
       "    <tr>\n",
       "      <th>4</th>\n",
       "      <td>2024-02-01-izmir-bornova</td>\n",
       "      <td>7</td>\n",
       "    </tr>\n",
       "  </tbody>\n",
       "</table>\n",
       "</div>"
      ],
      "text/plain": [
       "                   unique_id  bildirimsiz_sum\n",
       "0    2024-02-01-izmir-aliaga                4\n",
       "1  2024-02-01-izmir-bayindir                4\n",
       "2  2024-02-01-izmir-bayrakli                4\n",
       "3   2024-02-01-izmir-bergama                4\n",
       "4   2024-02-01-izmir-bornova                7"
      ]
     },
     "execution_count": 29,
     "metadata": {},
     "output_type": "execute_result"
    }
   ],
   "source": [
    "test[\"bildirimsiz_sum\"] = gbm.predict(test_df,num_iteration=gbm.best_iteration)\n",
    "test[\"bildirimsiz_sum\"]=test[\"bildirimsiz_sum\"].astype(\"int\")\n",
    "test[\"unique_id\"]=[str(test[\"tarih\"][i])+\"-\"+str(test[\"ilce\"][i]) for i in range(0,len(test))]\n",
    "predict=pd.DataFrame()\n",
    "predict=test[[\"unique_id\",\"bildirimsiz_sum\"]]\n",
    "predict[\"bildirimsiz_sum\"]=test[\"bildirimsiz_sum\"]\n",
    "submission2=pd.merge(submission,predict,how=\"left\",on=\"unique_id\")\n",
    "submission2.drop(\"bildirimsiz_sum_x\",axis=1,inplace=True)\n",
    "submission2.columns=[\"unique_id\",\"bildirimsiz_sum\"]\n",
    "print(submission2.isnull().sum())\n",
    "submission2.head()"
   ]
  },
  {
   "cell_type": "code",
   "execution_count": 30,
   "id": "5c971d46-0d51-475f-9a03-64cd471b04e3",
   "metadata": {
    "colab": {
     "background_save": true
    },
    "id": "5c971d46-0d51-475f-9a03-64cd471b04e3"
   },
   "outputs": [],
   "source": [
    "submission2.to_csv(\"C:\\\\Users\\\\Dell\\\\Desktop\\\\GDZ Elektrik Datathon\\\\GDZ-Tahmin 22-LightGBM.csv\",index=False)"
   ]
  },
  {
   "cell_type": "code",
   "execution_count": null,
   "id": "1605447e-67af-4859-adc4-4cb684187394",
   "metadata": {
    "colab": {
     "background_save": true
    },
    "id": "1605447e-67af-4859-adc4-4cb684187394"
   },
   "outputs": [],
   "source": []
  }
 ],
 "metadata": {
  "colab": {
   "name": "",
   "version": ""
  },
  "kernelspec": {
   "display_name": "Python 3 (ipykernel)",
   "language": "python",
   "name": "python3"
  },
  "language_info": {
   "codemirror_mode": {
    "name": "ipython",
    "version": 3
   },
   "file_extension": ".py",
   "mimetype": "text/x-python",
   "name": "python",
   "nbconvert_exporter": "python",
   "pygments_lexer": "ipython3",
   "version": "3.11.5"
  }
 },
 "nbformat": 4,
 "nbformat_minor": 5
}
